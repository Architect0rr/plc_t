{
 "cells": [
  {
   "cell_type": "code",
   "execution_count": 4,
   "metadata": {},
   "outputs": [
    {
     "name": "stdout",
     "output_type": "stream",
     "text": [
      "An exception of type ZeroDivisionError occurred. Arguments:\n",
      "('askndh',)\n"
     ]
    }
   ],
   "source": [
    "try:\n",
    "    raise ZeroDivisionError(\"askndh\")\n",
    "except Exception as ex:\n",
    "    template = \"An exception of type {0} occurred. Arguments:\\n{1!r}\"\n",
    "    message = template.format(type(ex).__name__, ex.args)\n",
    "    print(message)"
   ]
  },
  {
   "cell_type": "code",
   "execution_count": 3,
   "metadata": {},
   "outputs": [],
   "source": [
    "import tkinter.ttk\n",
    "# from tkinter.constants import *\n",
    "from tkinter.constants import NSEW\n",
    "\n",
    "class Application(tkinter.ttk.Frame):\n",
    "\n",
    "    @classmethod\n",
    "    def main(cls):\n",
    "        tkinter.NoDefaultRoot()\n",
    "        root = tkinter.Tk()\n",
    "        app = cls(root)\n",
    "        app.grid(sticky=NSEW)\n",
    "        root.grid_columnconfigure(0, weight=1)\n",
    "        root.grid_rowconfigure(0, weight=1)\n",
    "        root.resizable(True, False)\n",
    "        root.mainloop()\n",
    "\n",
    "    def __init__(self, root):\n",
    "        print(\"init\")\n",
    "        super().__init__(root)\n",
    "        print(\"init1\")\n",
    "        self.create_variables()\n",
    "        print(\"init2\")\n",
    "        self.create_widgets()\n",
    "        print(\"ini3\")\n",
    "        self.grid_widgets()\n",
    "        print(\"init4\")\n",
    "        self.grid_columnconfigure(0, weight=1)\n",
    "        print(\"init5\")\n",
    "\n",
    "    def create_variables(self):\n",
    "        self.player1 = tkinter.StringVar(self, 'Player 1')\n",
    "        self.player2 = tkinter.StringVar(self, 'Player 2')\n",
    "        self.timer = tkinter.StringVar(self)\n",
    "        self.running = tkinter.BooleanVar(self)\n",
    "\n",
    "    def create_widgets(self):\n",
    "        self.set_timer = tkinter.ttk.Entry(self, textvariable=self.timer)\n",
    "        self.button_start = tkinter.ttk.Button(self, text='Start', command=self.start)\n",
    "        self.display1 = tkinter.ttk.Label(self, textvariable=self.player1)\n",
    "        self.display2 = tkinter.ttk.Label(self, textvariable=self.player2)\n",
    "\n",
    "    def grid_widgets(self):\n",
    "        options = dict(sticky=NSEW, padx=3, pady=4)\n",
    "        self.set_timer.grid(column=0, row=0, **options)\n",
    "        self.button_start.grid(column=0, row=1, **options)\n",
    "        self.display1.grid(column=0, row=2, **options)\n",
    "        self.display2.grid(column=0, row=3, **options)\n",
    "\n",
    "    def start(self):\n",
    "        timer = self.timer.get()\n",
    "        self.player1.set(timer)\n",
    "        self.player2.set(timer)\n",
    "\n"
   ]
  },
  {
   "cell_type": "code",
   "execution_count": 4,
   "metadata": {},
   "outputs": [
    {
     "name": "stdout",
     "output_type": "stream",
     "text": [
      "Main\n",
      "Main1\n",
      "Main2\n",
      "init\n",
      "init1\n",
      "init2\n",
      "ini3\n",
      "init4\n",
      "init5\n",
      "Main3\n",
      "Main4\n",
      "Main5\n",
      "Main5\n",
      "Main7\n",
      "Main7\n"
     ]
    }
   ],
   "source": [
    "Application.main()"
   ]
  },
  {
   "cell_type": "code",
   "execution_count": 15,
   "metadata": {},
   "outputs": [
    {
     "data": {
      "text/plain": [
       "'🔴'"
      ]
     },
     "execution_count": 15,
     "metadata": {},
     "output_type": "execute_result"
    }
   ],
   "source": [
    "u\"\\U0001F534\""
   ]
  },
  {
   "cell_type": "code",
   "execution_count": null,
   "metadata": {},
   "outputs": [],
   "source": []
  },
  {
   "cell_type": "code",
   "execution_count": null,
   "metadata": {},
   "outputs": [],
   "source": []
  },
  {
   "cell_type": "code",
   "execution_count": 14,
   "metadata": {},
   "outputs": [
    {
     "data": {
      "text/plain": [
       "'🟢'"
      ]
     },
     "execution_count": 14,
     "metadata": {},
     "output_type": "execute_result"
    }
   ],
   "source": [
    "u\"\\U0001F7E2\""
   ]
  },
  {
   "cell_type": "code",
   "execution_count": null,
   "metadata": {},
   "outputs": [],
   "source": []
  }
 ],
 "metadata": {
  "kernelspec": {
   "display_name": "Python 3",
   "language": "python",
   "name": "python3"
  },
  "language_info": {
   "codemirror_mode": {
    "name": "ipython",
    "version": 3
   },
   "file_extension": ".py",
   "mimetype": "text/x-python",
   "name": "python",
   "nbconvert_exporter": "python",
   "pygments_lexer": "ipython3",
   "version": "3.10.12"
  },
  "orig_nbformat": 4
 },
 "nbformat": 4,
 "nbformat_minor": 2
}
